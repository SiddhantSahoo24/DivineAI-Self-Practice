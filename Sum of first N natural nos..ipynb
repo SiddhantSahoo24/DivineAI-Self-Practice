{
 "cells": [
  {
   "cell_type": "code",
   "execution_count": 2,
   "id": "97843961",
   "metadata": {},
   "outputs": [
    {
     "name": "stdout",
     "output_type": "stream",
     "text": [
      "Enter Your Number5\n",
      "The sum is  15\n"
     ]
    }
   ],
   "source": [
    "n=int(input(\"Enter Your Number\"))\n",
    "s=0\n",
    "for i in range(1,n+1):\n",
    "    s=s+i\n",
    "print(\"The sum is \",s)"
   ]
  },
  {
   "cell_type": "code",
   "execution_count": null,
   "id": "39a9ad37",
   "metadata": {},
   "outputs": [],
   "source": []
  }
 ],
 "metadata": {
  "kernelspec": {
   "display_name": "Python 3 (ipykernel)",
   "language": "python",
   "name": "python3"
  },
  "language_info": {
   "codemirror_mode": {
    "name": "ipython",
    "version": 3
   },
   "file_extension": ".py",
   "mimetype": "text/x-python",
   "name": "python",
   "nbconvert_exporter": "python",
   "pygments_lexer": "ipython3",
   "version": "3.9.7"
  }
 },
 "nbformat": 4,
 "nbformat_minor": 5
}
