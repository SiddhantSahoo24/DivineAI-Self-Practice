{
 "cells": [
  {
   "cell_type": "code",
   "execution_count": 2,
   "id": "7a7053d2",
   "metadata": {},
   "outputs": [
    {
     "name": "stdout",
     "output_type": "stream",
     "text": [
      " Input sales: or if you are done press over 2\n",
      " Input sales: or if you are done press over 3\n",
      " Input sales: or if you are done press over 4\n",
      " Input sales: or if you are done press over over\n",
      "Average Sales:  3.0\n"
     ]
    }
   ],
   "source": [
    "s = 0\n",
    "count = 0\n",
    "while True :\n",
    "    n = input(' Input sales: or if you are done press over ')\n",
    "    if n == 'over':\n",
    "        break\n",
    "    value = float(n)\n",
    "    s = s + value     \n",
    "    count = count + 1\n",
    "\n",
    "average = s/ count\n",
    "print('Average Sales: ', average)"
   ]
  },
  {
   "cell_type": "code",
   "execution_count": null,
   "id": "b0c14a64",
   "metadata": {},
   "outputs": [],
   "source": []
  }
 ],
 "metadata": {
  "kernelspec": {
   "display_name": "Python 3 (ipykernel)",
   "language": "python",
   "name": "python3"
  },
  "language_info": {
   "codemirror_mode": {
    "name": "ipython",
    "version": 3
   },
   "file_extension": ".py",
   "mimetype": "text/x-python",
   "name": "python",
   "nbconvert_exporter": "python",
   "pygments_lexer": "ipython3",
   "version": "3.9.7"
  }
 },
 "nbformat": 4,
 "nbformat_minor": 5
}
