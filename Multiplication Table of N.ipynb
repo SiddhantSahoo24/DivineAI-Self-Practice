{
 "cells": [
  {
   "cell_type": "code",
   "execution_count": null,
   "id": "989a6fa0",
   "metadata": {},
   "outputs": [],
   "source": [
    "n = int(input(\"multiplication table of? \"))\n",
    "for i in range(1,11):\n",
    "    print(n, 'x', i, '=', n*i)"
   ]
  },
  {
   "cell_type": "code",
   "execution_count": null,
   "id": "cbe18ee9",
   "metadata": {},
   "outputs": [],
   "source": []
  },
  {
   "cell_type": "code",
   "execution_count": null,
   "id": "f1a51f6b",
   "metadata": {},
   "outputs": [],
   "source": []
  }
 ],
 "metadata": {
  "kernelspec": {
   "display_name": "Python 3 (ipykernel)",
   "language": "python",
   "name": "python3"
  },
  "language_info": {
   "codemirror_mode": {
    "name": "ipython",
    "version": 3
   },
   "file_extension": ".py",
   "mimetype": "text/x-python",
   "name": "python",
   "nbconvert_exporter": "python",
   "pygments_lexer": "ipython3",
   "version": "3.9.7"
  }
 },
 "nbformat": 4,
 "nbformat_minor": 5
}
