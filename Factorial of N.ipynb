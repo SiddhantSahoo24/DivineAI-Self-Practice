{
 "cells": [
  {
   "cell_type": "code",
   "execution_count": 3,
   "id": "bdc660b0",
   "metadata": {},
   "outputs": [
    {
     "name": "stdout",
     "output_type": "stream",
     "text": [
      "Enter Your Number3\n",
      "The factorial of  3 is 6\n"
     ]
    }
   ],
   "source": [
    "n=int(input(\"Enter Your Number\"))\n",
    "f=1\n",
    "for i in range(1,n+1):\n",
    "    f=f*i\n",
    "print(\"The factorial of \",n,\"is\",f)"
   ]
  },
  {
   "cell_type": "code",
   "execution_count": null,
   "id": "d63d2918",
   "metadata": {},
   "outputs": [],
   "source": []
  }
 ],
 "metadata": {
  "kernelspec": {
   "display_name": "Python 3 (ipykernel)",
   "language": "python",
   "name": "python3"
  },
  "language_info": {
   "codemirror_mode": {
    "name": "ipython",
    "version": 3
   },
   "file_extension": ".py",
   "mimetype": "text/x-python",
   "name": "python",
   "nbconvert_exporter": "python",
   "pygments_lexer": "ipython3",
   "version": "3.9.7"
  }
 },
 "nbformat": 4,
 "nbformat_minor": 5
}
