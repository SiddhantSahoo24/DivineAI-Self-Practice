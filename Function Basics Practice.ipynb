{
 "cells": [
  {
   "cell_type": "code",
   "execution_count": 8,
   "id": "dc9bd636",
   "metadata": {},
   "outputs": [
    {
     "ename": "TypeError",
     "evalue": "mlist() takes 0 positional arguments but 6 were given",
     "output_type": "error",
     "traceback": [
      "\u001b[1;31m---------------------------------------------------------------------------\u001b[0m",
      "\u001b[1;31mTypeError\u001b[0m                                 Traceback (most recent call last)",
      "\u001b[1;32m~\\AppData\\Local\\Temp/ipykernel_9172/3255042631.py\u001b[0m in \u001b[0;36m<module>\u001b[1;34m\u001b[0m\n\u001b[0;32m      3\u001b[0m \u001b[1;33m\u001b[0m\u001b[0m\n\u001b[0;32m      4\u001b[0m \u001b[1;31m#ytup=('you','me',1,2,3,4)\u001b[0m\u001b[1;33m\u001b[0m\u001b[1;33m\u001b[0m\u001b[0m\n\u001b[1;32m----> 5\u001b[1;33m \u001b[0mmlist\u001b[0m\u001b[1;33m(\u001b[0m\u001b[1;34m\"you\"\u001b[0m\u001b[1;33m,\u001b[0m\u001b[1;34m\"me\"\u001b[0m\u001b[1;33m,\u001b[0m\u001b[1;36m5\u001b[0m\u001b[1;33m,\u001b[0m\u001b[1;36m4\u001b[0m\u001b[1;33m,\u001b[0m\u001b[1;36m3\u001b[0m\u001b[1;33m,\u001b[0m\u001b[1;36m2\u001b[0m\u001b[1;33m)\u001b[0m\u001b[1;33m\u001b[0m\u001b[1;33m\u001b[0m\u001b[0m\n\u001b[0m",
      "\u001b[1;31mTypeError\u001b[0m: mlist() takes 0 positional arguments but 6 were given"
     ]
    }
   ],
   "source": [
    "def mlist(fname):\n",
    "    print(fname[3])\n",
    "    \n",
    "#ytup=('you','me',1,2,3,4)\n",
    "mlist(\"you\",\"me\",5,4,3,2)"
   ]
  },
  {
   "cell_type": "code",
   "execution_count": 9,
   "id": "68243664",
   "metadata": {},
   "outputs": [
    {
     "name": "stdout",
     "output_type": "stream",
     "text": [
      "['you', 'me', 5, 4, 3, 2]\n"
     ]
    }
   ],
   "source": [
    "def mlist(fname):\n",
    "    print(fname)\n",
    "    \n",
    "#ytup=('you','me',1,2,3,4)\n",
    "mlist([\"you\",\"me\",5,4,3,2])"
   ]
  },
  {
   "cell_type": "code",
   "execution_count": 12,
   "id": "f4ccbd53",
   "metadata": {},
   "outputs": [
    {
     "name": "stdout",
     "output_type": "stream",
     "text": [
      "('you', 'me', 5, 4, 3, 20)\n"
     ]
    }
   ],
   "source": [
    "def mlist(fname):\n",
    "    print(fname)\n",
    "    \n",
    "#ytup=('you','me',1,2,3,4)\n",
    "mlist((\"you\",\"me\",5,4,3,20))"
   ]
  },
  {
   "cell_type": "code",
   "execution_count": null,
   "id": "d601c0e7",
   "metadata": {},
   "outputs": [],
   "source": []
  }
 ],
 "metadata": {
  "kernelspec": {
   "display_name": "Python 3 (ipykernel)",
   "language": "python",
   "name": "python3"
  },
  "language_info": {
   "codemirror_mode": {
    "name": "ipython",
    "version": 3
   },
   "file_extension": ".py",
   "mimetype": "text/x-python",
   "name": "python",
   "nbconvert_exporter": "python",
   "pygments_lexer": "ipython3",
   "version": "3.9.7"
  }
 },
 "nbformat": 4,
 "nbformat_minor": 5
}
